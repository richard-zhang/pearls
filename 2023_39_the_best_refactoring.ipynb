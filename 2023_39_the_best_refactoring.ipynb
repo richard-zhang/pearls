{
 "cells": [
  {
   "cell_type": "markdown",
   "metadata": {},
   "source": [
    "## Introduction\n",
    "\n",
    "- Recursion and iteraion are equivalent.\n",
    "- Iteration are just a special case of defunctionalization\n",
    "- Recursion vs iteration are the same as Defunctionalization vs Refunctionalization\n",
    "- #TLDR Defunctionalization v.s. Refunctionalization"
   ]
  },
  {
   "cell_type": "markdown",
   "metadata": {},
   "source": [
    "## Defunctionalization\n",
    "\n",
    "Replacing functions with data structures.\n",
    "\n",
    "Why we need this? You cannot send a function\n",
    "\n",
    "- Given `filter :: (a -> bool) -> [a] -> [a]`\n",
    "- Target: `defunc_filter :: Filter -> [a] -> [a]`."
   ]
  },
  {
   "cell_type": "code",
   "execution_count": 8,
   "metadata": {
    "vscode": {
     "languageId": "ocaml"
    }
   },
   "outputs": [
    {
     "data": {
      "text/plain": [
       "type filter = IsOdd | IsEven | Lessthan of int\n"
      ]
     },
     "execution_count": 8,
     "metadata": {},
     "output_type": "execute_result"
    },
    {
     "data": {
      "text/plain": [
       "val apply : filter -> int -> bool = <fun>\n"
      ]
     },
     "execution_count": 8,
     "metadata": {},
     "output_type": "execute_result"
    }
   ],
   "source": [
    "type filter =\n",
    "  | IsOdd\n",
    "  | IsEven\n",
    "  | Lessthan of int\n",
    "\n",
    "(* refunctionalize *)\n",
    "let apply = function\n",
    "  | IsOdd -> fun x -> x mod 2 <> 0\n",
    "  | IsEven -> fun x -> x mod 2 = 0\n",
    "  | Lessthan y -> fun x -> x < y\n"
   ]
  },
  {
   "cell_type": "markdown",
   "metadata": {},
   "source": [
    "the data type can be recursive to introduce composition\n"
   ]
  },
  {
   "cell_type": "code",
   "execution_count": 10,
   "metadata": {
    "vscode": {
     "languageId": "ocaml"
    }
   },
   "outputs": [
    {
     "data": {
      "text/plain": [
       "type filter = IsOdd | IsEven | Lessthan of int | And of filter * filter\n"
      ]
     },
     "execution_count": 10,
     "metadata": {},
     "output_type": "execute_result"
    }
   ],
   "source": [
    "type filter =\n",
    "  | IsOdd\n",
    "  | IsEven\n",
    "  | Lessthan of int\n",
    "  | And of filter * filter"
   ]
  },
  {
   "cell_type": "markdown",
   "metadata": {},
   "source": [
    "## Difference\n",
    "\n",
    "- Higher order function (refunctionalized form) are open\n",
    "- Defunctionalized form are close"
   ]
  },
  {
   "cell_type": "code",
   "execution_count": 36,
   "metadata": {
    "vscode": {
     "languageId": "ocaml"
    }
   },
   "outputs": [
    {
     "data": {
      "text/plain": [
       "type tree = Leaf | Node of tree * string * tree\n"
      ]
     },
     "execution_count": 36,
     "metadata": {},
     "output_type": "execute_result"
    },
    {
     "data": {
      "text/plain": [
       "val example_tree : tree =\n",
       "  Node (Node (Node (Leaf, \"4\", Leaf), \"2\", Node (Leaf, \"5\", Leaf)), \"1\",\n",
       "   Node (Leaf, \"3\", Leaf))\n"
      ]
     },
     "execution_count": 36,
     "metadata": {},
     "output_type": "execute_result"
    },
    {
     "data": {
      "text/plain": [
       "val print_tree : tree -> unit = <fun>\n"
      ]
     },
     "execution_count": 36,
     "metadata": {},
     "output_type": "execute_result"
    }
   ],
   "source": [
    "type tree =\n",
    "  | Leaf \n",
    "  | Node of tree * string * tree\n",
    "\n",
    "let example_tree =\n",
    "  let four = Node (Leaf, \"4\", Leaf) in\n",
    "  let five = Node (Leaf, \"5\", Leaf) in\n",
    "  let three = Node (Leaf, \"3\", Leaf) in\n",
    "  let two = Node (four, \"2\", five) in\n",
    "  let one = Node (two, \"1\", three) in\n",
    "  one\n",
    " \n",
    "let rec print_tree = function\n",
    "  | Leaf -> ()\n",
    "  | Node (left, content, right) -> print_tree left; print_endline content; print_tree right\n"
   ]
  },
  {
   "cell_type": "markdown",
   "metadata": {},
   "source": [
    "Step 1. cps conversion the function"
   ]
  },
  {
   "cell_type": "code",
   "execution_count": 38,
   "metadata": {
    "vscode": {
     "languageId": "ocaml"
    }
   },
   "outputs": [
    {
     "data": {
      "text/plain": [
       "val print_tree_cps : tree -> (unit -> 'a) -> 'a = <fun>\n"
      ]
     },
     "execution_count": 38,
     "metadata": {},
     "output_type": "execute_result"
    },
    {
     "name": "stdout",
     "output_type": "stream",
     "text": [
      "4\n",
      "2\n",
      "5\n",
      "1\n",
      "3\n"
     ]
    }
   ],
   "source": [
    "let rec print_tree_cps tree cont =\n",
    "  match tree with\n",
    "  | Leaf -> cont ()\n",
    "  | Node (left, content, right) -> \n",
    "    print_tree_cps left \n",
    "      (fun _ -> print_endline content; print_tree_cps right cont)\n",
    "\n",
    "let () = print_tree_cps example_tree (Fun.id)"
   ]
  },
  {
   "cell_type": "markdown",
   "metadata": {},
   "source": [
    "Step 2. Defunctionalize the Continuation (cont)\n",
    "Two types of continuation that could be passed in\n",
    "1. base case (Done)\n",
    "2. left tree continuation. Free variable analysis\n",
    "   1. content of tree\n",
    "   2. the right branch of the tree\n",
    "   3. the continuation passed"
   ]
  },
  {
   "cell_type": "code",
   "execution_count": 39,
   "metadata": {
    "vscode": {
     "languageId": "ocaml"
    }
   },
   "outputs": [
    {
     "data": {
      "text/plain": [
       "type cont = Done | Next of (tree * string * cont)\n"
      ]
     },
     "execution_count": 39,
     "metadata": {},
     "output_type": "execute_result"
    },
    {
     "data": {
      "text/plain": [
       "val print_tree_defunc : tree -> cont -> unit = <fun>\n",
       "val apply : cont -> unit = <fun>\n"
      ]
     },
     "execution_count": 39,
     "metadata": {},
     "output_type": "execute_result"
    },
    {
     "name": "stdout",
     "output_type": "stream",
     "text": [
      "4\n",
      "2\n",
      "5\n",
      "1\n",
      "3\n"
     ]
    }
   ],
   "source": [
    "(* this looks like a stack *)\n",
    "type cont = \n",
    "  | Done\n",
    "  | Next of (tree * string * cont)\n",
    "\n",
    "let rec print_tree_defunc tree cont = \n",
    "  match tree with\n",
    "  | Leaf -> apply cont\n",
    "  | Node (left, content, right) -> print_tree_defunc left (Next (right, content, cont))\n",
    "and apply = function\n",
    "  | Done -> ()\n",
    "  | Next (right_tree, content, kont) -> print_endline content; print_tree_defunc right_tree kont\n",
    "\n",
    "let () = print_tree_defunc example_tree Done"
   ]
  },
  {
   "cell_type": "markdown",
   "metadata": {},
   "source": [
    "Step 3 inlining the `apply`"
   ]
  },
  {
   "cell_type": "code",
   "execution_count": 40,
   "metadata": {
    "vscode": {
     "languageId": "ocaml"
    }
   },
   "outputs": [
    {
     "data": {
      "text/plain": [
       "val print_tree_defunc : tree -> cont -> unit = <fun>\n"
      ]
     },
     "execution_count": 40,
     "metadata": {},
     "output_type": "execute_result"
    },
    {
     "name": "stdout",
     "output_type": "stream",
     "text": [
      "4\n",
      "2\n",
      "5\n",
      "1\n",
      "3\n"
     ]
    }
   ],
   "source": [
    "let rec print_tree_defunc tree cont = \n",
    "  match tree with\n",
    "  | Node (left, content, right) -> print_tree_defunc left (Next (right, content, cont))\n",
    "  | Leaf -> \n",
    "    match cont with\n",
    "    | Done -> ()\n",
    "    | Next (right_tree, content, next) ->\n",
    "      print_endline content;\n",
    "      print_tree_defunc right_tree next\n",
    "\n",
    "let () = print_tree_defunc example_tree Done\n"
   ]
  },
  {
   "cell_type": "markdown",
   "metadata": {},
   "source": [
    "Step 4. The result after inlining give us a tail-call recursive function. We can then do the tail call elimination.\n",
    "\n",
    "- How to do tail call elimination?\n",
    "  - wrapped the code in a while true loop\n",
    "  - introduce states\n",
    "  - replace every occurence of tail call with state update"
   ]
  },
  {
   "cell_type": "code",
   "execution_count": 53,
   "metadata": {
    "vscode": {
     "languageId": "ocaml"
    }
   },
   "outputs": [
    {
     "data": {
      "text/plain": [
       "val print_tree_iter : tree -> cont -> unit = <fun>\n"
      ]
     },
     "execution_count": 53,
     "metadata": {},
     "output_type": "execute_result"
    },
    {
     "name": "stdout",
     "output_type": "stream",
     "text": [
      "4\n",
      "2\n",
      "5\n",
      "1\n",
      "3\n"
     ]
    }
   ],
   "source": [
    "let print_tree_iter tree cont = \n",
    "  let quit_loop = ref false in\n",
    "  let cont = ref cont in\n",
    "  let tree = ref tree in\n",
    "  while not !quit_loop do\n",
    "  match !tree with\n",
    "  | Node (left, content, right) -> \n",
    "    tree := left;\n",
    "    cont := Next (right, content, !cont)\n",
    "  | Leaf -> \n",
    "    match !cont with\n",
    "    | Done -> quit_loop := true\n",
    "    | Next (rtree, content, next) ->\n",
    "      print_endline content;\n",
    "      tree := rtree;\n",
    "      cont := next\n",
    "  done\n",
    "\n",
    "let () = print_tree_iter example_tree Done"
   ]
  },
  {
   "cell_type": "markdown",
   "metadata": {},
   "source": [
    "1. Defunctionalization Introduced (for compilers)\n",
    "2. Defunctionalization as Program Manipulation\n",
    "3. Formalized Refunctionalization\n",
    "   - state machine algorithm turn into direct style recursive algorithm\n",
    "4. Delimited Continuation in Operating Systems"
   ]
  },
  {
   "cell_type": "markdown",
   "metadata": {},
   "source": [
    "## Practical examples\n",
    "- Web actions\n",
    "- event loop\n",
    "\n",
    "- Non-Blocking I/O via Notification\n",
    "  - drawbacks: concurrency...\n",
    "  - goal: how to make it just like the direct style but run with async\n",
    "- Solution: defunctionalize\n",
    "- Notification action = delimited continuation"
   ]
  }
 ],
 "metadata": {
  "kernelspec": {
   "display_name": "OCaml default",
   "language": "OCaml",
   "name": "ocaml-jupyter-default"
  },
  "language_info": {
   "codemirror_mode": "text/x-ocaml",
   "file_extension": ".ml",
   "mimetype": "text/x-ocaml",
   "name": "OCaml",
   "nbconverter_exporter": null,
   "pygments_lexer": "OCaml",
   "version": "4.14.0"
  },
  "orig_nbformat": 4
 },
 "nbformat": 4,
 "nbformat_minor": 2
}
