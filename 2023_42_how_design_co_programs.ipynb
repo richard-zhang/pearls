{
 "cells": [
  {
   "cell_type": "markdown",
   "metadata": {},
   "source": [
    "# #FP [How to design co-programs](https://youtu.be/w2XCnbLBHmw?si=iBX8L96XXK_B7F3O)\n",
    "\n",
    "Inspire by the book: [How to Design Programs](https://htdp.org/2023-8-14/Book/index.html)\n",
    "\n",
    "- motivating problem\n",
    "\n",
    "## Where do programs come from?\n",
    "\n",
    "- start by analysing the structure of the input\n",
    "  - input can be a list\n",
    "\n",
    "- HtDP\n",
    "  - input  \n",
    "  - composite\n",
    "    - mixed\n",
    "    - inductive\n",
    "  - skeleton\n",
    "    - name the component\n",
    "    - enumerate the alternatives\n",
    "    - use structural recursion\n",
    "\n",
    "| input | program skeleton |\n",
    "|-------|------------------|\n",
    "| compositie(record) |name the component |\n",
    "| mixed(union) | enumerate the alternatives|\n",
    "| inductive | use structural recursion|\n",
    "\n",
    "## Example (poker deck)"
   ]
  },
  {
   "cell_type": "code",
   "execution_count": 9,
   "metadata": {
    "vscode": {
     "languageId": "ocaml"
    }
   },
   "outputs": [
    {
     "data": {
      "text/plain": [
       "type suit = unit\n"
      ]
     },
     "execution_count": 9,
     "metadata": {},
     "output_type": "execute_result"
    },
    {
     "data": {
      "text/plain": [
       "type rank = unit\n"
      ]
     },
     "execution_count": 9,
     "metadata": {},
     "output_type": "execute_result"
    },
    {
     "data": {
      "text/plain": [
       "type cardR = { rank : rank; suite : suit; }\n"
      ]
     },
     "execution_count": 9,
     "metadata": {},
     "output_type": "execute_result"
    },
    {
     "data": {
      "text/plain": [
       "type card = Regular of cardR | Joker\n"
      ]
     },
     "execution_count": 9,
     "metadata": {},
     "output_type": "execute_result"
    }
   ],
   "source": [
    "(* name the component *)\n",
    "type suit = unit\n",
    "type rank = unit\n",
    "type cardR = {\n",
    "  rank : rank;\n",
    "  suite : suit\n",
    "}\n",
    "\n",
    "type card = | Regular of cardR | Joker\n"
   ]
  },
  {
   "cell_type": "markdown",
   "metadata": {},
   "source": [
    "## Example for Inductive Data\n"
   ]
  },
  {
   "cell_type": "code",
   "execution_count": 22,
   "metadata": {
    "vscode": {
     "languageId": "ocaml"
    }
   },
   "outputs": [
    {
     "data": {
      "text/plain": [
       "val insert : 'a -> 'a list -> 'a list = <fun>\n"
      ]
     },
     "execution_count": 22,
     "metadata": {},
     "output_type": "execute_result"
    },
    {
     "data": {
      "text/plain": [
       "val isort : 'a list -> 'a list = <fun>\n"
      ]
     },
     "execution_count": 22,
     "metadata": {},
     "output_type": "execute_result"
    },
    {
     "data": {
      "text/plain": [
       "val sorted_list : int list = [1; 2; 2; 3; 4; 5; 6]\n"
      ]
     },
     "execution_count": 22,
     "metadata": {},
     "output_type": "execute_result"
    }
   ],
   "source": [
    "(* insertion sort *)\n",
    "let insert a = function\n",
    "  | [] -> [a]\n",
    "  | x::xs when a < x -> a :: x :: xs\n",
    "  | x::xs -> x::(insert a xs)\n",
    "\n",
    "let rec isort = function\n",
    "  | [] -> []\n",
    "  | x::xs -> insert x (isort xs)\n",
    "\n",
    "\n",
    "let sorted_list = isort [4;3;2;5;1;6;2]"
   ]
  },
  {
   "cell_type": "markdown",
   "metadata": {},
   "source": [
    "| output | program skeleton |\n",
    "|-------|------------------|\n",
    "| compositie(record) |name the component |\n",
    "| mixed(union) | enumerate the alternatives|\n",
    "| inductive | use structural corecursion|\n",
    "\n",
    "## What's structural corecursion\n",
    "\n",
    "```Haskell\n",
    "h z | ... = []\n",
    "    | otherwise = x:xs\n",
    "    where x = ... z ..\n",
    "          xs = h (...z...)\n",
    "```\n",
    "\n",
    "this is an unfold\n",
    "\n",
    "## Example of structural corecursion\n"
   ]
  },
  {
   "cell_type": "code",
   "execution_count": 26,
   "metadata": {
    "vscode": {
     "languageId": "ocaml"
    }
   },
   "outputs": [
    {
     "data": {
      "text/plain": [
       "val min : 'a list -> 'a = <fun>\n"
      ]
     },
     "execution_count": 26,
     "metadata": {},
     "output_type": "execute_result"
    },
    {
     "data": {
      "text/plain": [
       "val taken_elem : 'a -> 'a list -> 'a list = <fun>\n"
      ]
     },
     "execution_count": 26,
     "metadata": {},
     "output_type": "execute_result"
    },
    {
     "data": {
      "text/plain": [
       "val ssort : 'a list -> 'a list = <fun>\n"
      ]
     },
     "execution_count": 26,
     "metadata": {},
     "output_type": "execute_result"
    },
    {
     "data": {
      "text/plain": [
       "val sorted_list : int list = [1; 2; 2; 3; 4; 5; 6]\n"
      ]
     },
     "execution_count": 26,
     "metadata": {},
     "output_type": "execute_result"
    }
   ],
   "source": [
    "(* selection sort *)\n",
    "let min = function\n",
    "  | [] -> failwith \"invalid input\"\n",
    "  | x::xs -> List.fold_left (fun acc y -> if acc < y then acc else y) x xs\n",
    "\n",
    "let rec taken_elem a = function\n",
    "  | [] -> []\n",
    "  | x::xs when a = x -> xs\n",
    "  | x::xs -> x :: (taken_elem a xs)\n",
    "\n",
    "let rec ssort = function\n",
    "  | [] -> []\n",
    "  | input -> let x = min input in\n",
    "             let xs  = (taken_elem x input) in\n",
    "             x::xs\n",
    "\n",
    "let sorted_list = isort [4;3;2;5;1;6;2]"
   ]
  },
  {
   "cell_type": "markdown",
   "metadata": {},
   "source": [
    "More tools means more options. \n",
    "\n",
    "## Motivating example\n",
    "\n",
    "zipping two list\n",
    "\n",
    "- there're cases where the design recipe on input analysis doesn't work\n",
    "- while the design recipe on output anaysis works"
   ]
  },
  {
   "cell_type": "code",
   "execution_count": 31,
   "metadata": {
    "vscode": {
     "languageId": "ocaml"
    }
   },
   "outputs": [
    {
     "data": {
      "text/plain": [
       "val zip : 'a list -> 'b list -> ('a * 'b) list = <fun>\n"
      ]
     },
     "execution_count": 31,
     "metadata": {},
     "output_type": "execute_result"
    },
    {
     "data": {
      "text/plain": [
       "val is_empty : 'a list -> bool = <fun>\n"
      ]
     },
     "execution_count": 31,
     "metadata": {},
     "output_type": "execute_result"
    },
    {
     "data": {
      "text/plain": [
       "val zip : 'a list -> 'b list -> ('a * 'b) list = <fun>\n"
      ]
     },
     "execution_count": 31,
     "metadata": {},
     "output_type": "execute_result"
    }
   ],
   "source": [
    "(* based on the input analysis *)\n",
    "let rec zip xs ys = \n",
    "  match xs with\n",
    "  | [] -> []\n",
    "  | x::xs ->\n",
    "    begin\n",
    "      match ys with\n",
    "      | [] -> []\n",
    "      | y::ys -> (x, y) :: zip xs ys\n",
    "    end\n",
    "\n",
    "let is_empty = function [] -> true | _ -> false\n",
    "(* based on the output analysis *)\n",
    "let rec zip xs ys = \n",
    "  if is_empty xs || is_empty ys then\n",
    "    []\n",
    "  else\n",
    "    (List.hd xs, List.hd ys) :: zip (List.tl xs) (List.tl ys)\n"
   ]
  },
  {
   "cell_type": "code",
   "execution_count": null,
   "metadata": {
    "vscode": {
     "languageId": "ocaml"
    }
   },
   "outputs": [],
   "source": [
    "## Generative recursion\n",
    "\n",
    "- structural recursive\n",
    "  - subproblem is projection \n",
    "  - triavial computation like head/tail\n",
    "- generative recursion\n",
    "  - subproblem are computed instead of projected"
   ]
  },
  {
   "cell_type": "code",
   "execution_count": 36,
   "metadata": {
    "vscode": {
     "languageId": "ocaml"
    }
   },
   "outputs": [
    {
     "data": {
      "text/plain": [
       "val qsort : 'a list -> 'a list = <fun>\n"
      ]
     },
     "execution_count": 36,
     "metadata": {},
     "output_type": "execute_result"
    },
    {
     "data": {
      "text/plain": [
       "val sorted_list : int list = [1; 2; 2; 3; 4; 5; 6]\n"
      ]
     },
     "execution_count": 36,
     "metadata": {},
     "output_type": "execute_result"
    }
   ],
   "source": [
    "(* example generative recursion *)\n",
    "let rec qsort =\n",
    "  function\n",
    "  | [] -> []\n",
    "  | x::xs ->\n",
    "    let less_than = List.filter ((>=) x) xs in\n",
    "    let more_than = List.filter ((<) x) xs in\n",
    "    (qsort less_than) @ [x] @ (qsort more_than)\n",
    "\n",
    "let sorted_list = qsort [4;3;2;5;1;6;2]"
   ]
  },
  {
   "cell_type": "markdown",
   "metadata": {},
   "source": [
    "However, the qsort demonstrated as an example for generative recursion suffers the problem of bad performance. It's short but slow.\n",
    "\n",
    "## Combing structural recursion and corecursion\n",
    "\n",
    "generative recursion has a creative step. for example\n",
    "1. tree structure in the quick sort\n",
    "\n",
    "#TLDR Jeremey said generative recursion is not ad-hoc activity. It's in fact a structural activity. \n",
    "Yes, it do requires some insight on coming up with intermediate data strucutres which is not related to input data and output data of the program but\n",
    "it's then a structural programming (structural recursion/corecursion) on the intermediate data structures.\n",
    "\n",
    "## Separation of concerns\n",
    "\n",
    "Deeforestation\n",
    "- a program transformation to eliminate intermediate lists or tree structures that are created and then immediately consumed by a program.\n",
    "\n",
    "More about generative recursion.\n",
    "\n",
    "separates parts may be studied separately.\n",
    "\n",
    "1. corecrusion: input => middle, recusion: middle => output\n",
    "   * fold after unfold - hylomorphism\n",
    "2. recursion: input => middle, corecursion: middle => outptu\n",
    "   * unfold after fold - metamorphism\n",
    "\n",
    "## A learning opportunity\n",
    "\n",
    "* #TLDR data strucutres determine the program structures\n",
    "\n",
    "using merge sort as an example. Represent tree the following way produces awkward programs."
   ]
  },
  {
   "cell_type": "code",
   "execution_count": 63,
   "metadata": {
    "vscode": {
     "languageId": "ocaml"
    }
   },
   "outputs": [
    {
     "data": {
      "text/plain": [
       "type tree = Empty | Node of (tree * int * tree)\n"
      ]
     },
     "execution_count": 63,
     "metadata": {},
     "output_type": "execute_result"
    },
    {
     "data": {
      "text/plain": [
       "val halves : 'a list -> 'a list * 'a list = <fun>\n"
      ]
     },
     "execution_count": 63,
     "metadata": {},
     "output_type": "execute_result"
    },
    {
     "data": {
      "text/plain": [
       "val split : int list -> tree = <fun>\n"
      ]
     },
     "execution_count": 63,
     "metadata": {},
     "output_type": "execute_result"
    },
    {
     "data": {
      "text/plain": [
       "val mergeAll : tree -> int list = <fun>\n"
      ]
     },
     "execution_count": 63,
     "metadata": {},
     "output_type": "execute_result"
    },
    {
     "data": {
      "text/plain": [
       "val msort : int list -> int list = <fun>\n"
      ]
     },
     "execution_count": 63,
     "metadata": {},
     "output_type": "execute_result"
    },
    {
     "data": {
      "text/plain": [
       "val sorted_list : int list = [1; 2; 2; 3; 4; 5; 6]\n"
      ]
     },
     "execution_count": 63,
     "metadata": {},
     "output_type": "execute_result"
    }
   ],
   "source": [
    "type tree =\n",
    "  | Empty\n",
    "  | Node of (tree * int * tree)\n",
    "\n",
    "let halves input =  \n",
    "  let target = (List.length input) / 2 in\n",
    "  let start_acc = (([], []), 0) in\n",
    "  let fold_action elem ((left, right), count) = \n",
    "    if count >= target then\n",
    "      ((elem::left, right), count + 1)\n",
    "    else\n",
    "      ((left, elem::right), count + 1)\n",
    "    in\n",
    "  List.fold_right fold_action input start_acc |> fst\n",
    "\n",
    "let rec split = function\n",
    "  | [] -> Empty\n",
    "  | x::xs -> let (left, right) = halves xs in\n",
    "  Node (split left, x, split right)\n",
    "\n",
    "let rec mergeAll = function\n",
    "  | Empty -> []\n",
    "  | Node (left, a, right) -> List.merge compare (mergeAll left) (List.merge compare [a] (mergeAll right))\n",
    "\n",
    "let msort input = input |> split |> mergeAll\n",
    "\n",
    "let sorted_list = msort [4;3;2;5;1;6;2]"
   ]
  },
  {
   "cell_type": "markdown",
   "metadata": {},
   "source": [
    "```OCaml\n",
    "type 'a tree =\n",
    "    | Leaf of 'a\n",
    "    | Node of ('a tree, 'a tree)\n",
    "```"
   ]
  },
  {
   "cell_type": "markdown",
   "metadata": {},
   "source": [
    "## Laziness\n",
    "\n",
    "Laziness give automatics deforestation\n",
    "\n",
    "## Conclusion\n",
    "\n",
    "1. program strucutre follows data structure\n",
    "2. recursive programs for recursive data"
   ]
  }
 ],
 "metadata": {
  "kernelspec": {
   "display_name": "OCaml default",
   "language": "OCaml",
   "name": "ocaml-jupyter-default"
  },
  "language_info": {
   "codemirror_mode": "text/x-ocaml",
   "file_extension": ".ml",
   "mimetype": "text/x-ocaml",
   "name": "OCaml",
   "nbconverter_exporter": null,
   "pygments_lexer": "OCaml",
   "version": "4.14.0"
  }
 },
 "nbformat": 4,
 "nbformat_minor": 2
}
